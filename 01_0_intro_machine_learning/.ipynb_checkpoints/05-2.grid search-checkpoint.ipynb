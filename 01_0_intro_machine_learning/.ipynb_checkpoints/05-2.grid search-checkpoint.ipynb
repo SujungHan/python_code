{
 "cells": [
  {
   "cell_type": "code",
   "execution_count": 1,
   "metadata": {},
   "outputs": [],
   "source": [
    "import pandas as pd\n",
    "from sklearn.model_selection import train_test_split\n",
    "from sklearn.svm import SVC\n",
    "from sklearn.metrics import accuracy_score\n",
    "from sklearn.model_selection import KFold\n",
    "from sklearn.model_selection import GridSearchCV"
   ]
  },
  {
   "cell_type": "code",
   "execution_count": 2,
   "metadata": {},
   "outputs": [],
   "source": [
    "# 붓꽃 데이터 읽어 들이기\n",
    "iris_data = pd.read_csv(\"data/iris.csv\", encoding=\"utf-8\")"
   ]
  },
  {
   "cell_type": "code",
   "execution_count": 3,
   "metadata": {},
   "outputs": [],
   "source": [
    "# 붓꽃 데이터를 레이블과 입력 데이터로 분리하기 \n",
    "y = iris_data.loc[:,'class']\n",
    "x = iris_data.loc[:,['sepal_length','sepal_width','petal_length','petal_width']]"
   ]
  },
  {
   "cell_type": "code",
   "execution_count": 4,
   "metadata": {},
   "outputs": [],
   "source": [
    "# 학습 전용과 테스트 전용 분리하기 \n",
    "x_train, x_test, y_train, y_test = train_test_split(x, y, test_size = 0.2, train_size = 0.8, shuffle = True)"
   ]
  },
  {
   "cell_type": "code",
   "execution_count": 5,
   "metadata": {},
   "outputs": [],
   "source": [
    "# 그리드 서치에서 사용할 매개 변수 --- (*1)\n",
    "parameters = [\n",
    "    {\"C\": [1, 10, 100, 1000], \"kernel\":[\"linear\"]},\n",
    "    {\"C\": [1, 10, 100, 1000], \"kernel\":[\"rbf\"], \"gamma\":[0.001, 0.0001]},\n",
    "    {\"C\": [1, 10, 100, 1000], \"kernel\":[\"sigmoid\"], \"gamma\": [0.001, 0.0001]}\n",
    "]"
   ]
  },
  {
   "cell_type": "code",
   "execution_count": 6,
   "metadata": {},
   "outputs": [
    {
     "name": "stdout",
     "output_type": "stream",
     "text": [
      "최적의 매개 변수 =  SVC(C=1, cache_size=200, class_weight=None, coef0=0.0,\n",
      "    decision_function_shape='ovr', degree=3, gamma='auto_deprecated',\n",
      "    kernel='linear', max_iter=-1, probability=False, random_state=None,\n",
      "    shrinking=True, tol=0.001, verbose=False)\n"
     ]
    }
   ],
   "source": [
    "# 그리드 서치 --- (*2)\n",
    "kfold_cv = KFold(n_splits=5, shuffle=True)\n",
    "clf = GridSearchCV( SVC(), parameters, cv=kfold_cv)\n",
    "clf.fit(x_train, y_train)\n",
    "print(\"최적의 매개 변수 = \", clf.best_estimator_)"
   ]
  },
  {
   "cell_type": "code",
   "execution_count": 7,
   "metadata": {},
   "outputs": [
    {
     "name": "stdout",
     "output_type": "stream",
     "text": [
      "최종 정답률 =  0.9333333333333333\n"
     ]
    }
   ],
   "source": [
    "# 최적의 매개 변수로 평가하기 --- (*3)\n",
    "y_pred = clf.predict(x_test)\n",
    "print(\"최종 정답률 = \" , accuracy_score(y_test, y_pred))"
   ]
  },
  {
   "cell_type": "code",
   "execution_count": null,
   "metadata": {},
   "outputs": [],
   "source": []
  }
 ],
 "metadata": {
  "kernelspec": {
   "display_name": "Python 3",
   "language": "python",
   "name": "python3"
  },
  "language_info": {
   "codemirror_mode": {
    "name": "ipython",
    "version": 3
   },
   "file_extension": ".py",
   "mimetype": "text/x-python",
   "name": "python",
   "nbconvert_exporter": "python",
   "pygments_lexer": "ipython3",
   "version": "3.7.2"
  }
 },
 "nbformat": 4,
 "nbformat_minor": 2
}
